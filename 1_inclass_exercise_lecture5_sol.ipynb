{
 "cells": [
  {
   "cell_type": "markdown",
   "id": "ec303ca6-d7e7-4ece-87f9-b75a08794ce1",
   "metadata": {},
   "source": [
    "# In-Class Exercise (Lecture 5)"
   ]
  },
  {
   "cell_type": "code",
   "execution_count": 2,
   "id": "68696d12-2739-4fa8-a489-167015de6674",
   "metadata": {},
   "outputs": [],
   "source": [
    "import numpy as np\n",
    "import timeit\n",
    "import random"
   ]
  },
  {
   "cell_type": "markdown",
   "id": "e5e7f448-fe49-48f9-b645-5fcadea2bd49",
   "metadata": {},
   "source": [
    "---"
   ]
  },
  {
   "cell_type": "markdown",
   "id": "25d1d8ce-94d2-40e5-8b0a-19dbc5f898a0",
   "metadata": {},
   "source": [
    "## Q1. Modelling Stock Returns via Random Walks"
   ]
  },
  {
   "cell_type": "markdown",
   "id": "7889c3c2-7aa0-486d-8725-452654934927",
   "metadata": {},
   "source": [
    "In lecture 4, we introduced the simple random walk, which starts at 0 and moves with steps of 1 and -1 occuring with equal probability. Suppose we use $X_t$ to denote such a simple random walk, $\\Delta t$ is the time step (e.g., one trading day or week, etc.), and $\\Delta X_{t+\\Delta t} = X_{t+\\Delta t} - X_{t}$ denotes the movement between time $t$ and $t+\\Delta t$. The definition of simple random walks implies that \n",
    "$$\n",
    "\\mathbf{P} [\\Delta X_{t+\\Delta t} = 1] = \\mathbf{P} [\\Delta X_{t+\\Delta t} = -1] = \\frac{1}{2}. \n",
    "$$\n",
    "In other words, $X_t$ increases or decreases by 1 unit with equal probabilities. "
   ]
  },
  {
   "cell_type": "markdown",
   "id": "c96232d9-8e66-41a6-971d-012544b1f10d",
   "metadata": {},
   "source": [
    "In this question, we twist the simple walk to model stock returns. Suppose that we are interested in the S&P 500 index. The behaviors of this stock index are similar to the simple random walk in the sense that it is difficult to predict. However, the stock index tends to increase in the long run. For example, the average annualized return of the S&P 500 index is around $10\\%$. We also want to change the step size of the simple random walk to fit the real behavior of the stock return. Let's use $P_t$ to denote the S&P 500 index (the stock price), so its return between time $t$ and $t+\\Delta t$ is defined as \n",
    "$$\n",
    "R_{t+\\Delta t} = \\frac{P_{t+\\Delta t} - P_t}{P_t},\n",
    "$$\n",
    "and we model the behavior of $R_{t+\\Delta t}$ as follows: \n",
    "$$\n",
    "R_{t+\\Delta t} = \\mu \\times \\Delta t + \\sigma \\times \\sqrt{\\Delta t} \\times \\Delta X_{t+\\Delta t},\n",
    "$$\n",
    "where $\\mu$ and $\\sigma$ are the mean and standard deviation of the S&P 500 index return. \n",
    "\n",
    "Finally, $R_{t \\to T} = \\frac{P_{T} - P_t}{P_t}$ is approximated as follows:\n",
    "$$\n",
    "R_{t \\to T} = \\prod^{\\frac{T-t}{\\Delta t}}_{i=1} \\big(1 + R_{t+ i \\cdot \\Delta t} \\big) - 1,\n",
    "$$\n",
    "which implies $P_T = P_t \\cdot (1 + R_{t \\to T})$. Here, we assume that $\\frac{T-t}{\\Delta t}$ is an integer (we can also guarantee this condition by choosing a suitable $\\Delta t$)."
   ]
  },
  {
   "cell_type": "markdown",
   "id": "8ddaa702-5b77-4d13-93fe-27e8eb25315c",
   "metadata": {},
   "source": [
    "### Q1.1 \n",
    "\n",
    "In this question, you are asked to write a ```stock_price_simulations``` function with the specifications: \n",
    "```python\n",
    "def stock_price_simulations(P0, T, delta_t, mu, sigma, nwalks):\n",
    "    \"\"\"\n",
    "    P0: the current stock price;\n",
    "    T: time-to-maturity;\n",
    "    delta_t: the time step, double numeric (we choose delta_t such that T/delta_t is an integer);\n",
    "    mu, sigma: mean and standard deviation of the stock return, double numeric;\n",
    "    nwalks: the number of stock return random walks, integer;\n",
    "    Return: a two-dimensional np.array, with each row storing one draw of stock price\n",
    "            random walk with nsteps. \n",
    "    \"\"\"\n",
    "```\n",
    "\n",
    "Hint: The stock return equation is $R_{t+\\Delta t} = \\mu \\times \\Delta t + \\sigma \\times \\sqrt{\\Delta t} \\times \\Delta X_{t+\\Delta t}$, where simulating $\\Delta X_{t+\\Delta t}$ (the simple random walk) is the same as in the function ```random_walk_simulations(nsteps, nwalks)``` in the in-class assignment 4. \n",
    "\n",
    "The np.array ```P1``` contains 10,000 draws of stock return random walks, each of which has 2,520 steps.\n",
    "```python\n",
    "### After you create the above function, run the following code:\n",
    "P1 = stock_price_simulations(P0, T, delta_t, mu, sigma, nwalks)\n",
    "print(P1.shape)   # Here, you should get (10000, 2520)\n",
    "```"
   ]
  },
  {
   "cell_type": "code",
   "execution_count": 8,
   "id": "53f1cb92-82d7-4cae-800a-2ef8a57b1cab",
   "metadata": {},
   "outputs": [],
   "source": [
    "import numpy as np\n",
    "np.random.seed(12345)\n",
    "\n",
    "T = 1          # time to maturity\n",
    "mu = 0.1       # annualised average return\n",
    "sigma = 0.3    # annualised volatility\n",
    "r = 0.04       # annualised risk-free rate\n",
    "P0 = 50        # current stock price\n",
    "delta_t = 1 / 2520\n",
    "nwalks = 10000 # the number of random walks"
   ]
  },
  {
   "cell_type": "code",
   "execution_count": 9,
   "id": "89b6a214-2065-4cdf-98c9-2a5bf9f0793f",
   "metadata": {},
   "outputs": [],
   "source": [
    "def stock_price_simulations(P0, T, delta_t, mu, sigma, nwalks):\n",
    "    \"\"\"\n",
    "    P0: the current stock price;\n",
    "    T: time-to-maturity;\n",
    "    delta_t: the time step, double numeric (we choose delta_t such that T/delta_t is an integer);\n",
    "    mu, sigma: mean and standard deviation of the stock return, double numeric;\n",
    "    nwalks: the number of stock return random walks, integer;\n",
    "    Return: a two-dimensional np.array, with each row storing one draw of stock price\n",
    "            random walk with nsteps. \n",
    "    \"\"\"\n",
    "    \n",
    "    nsteps = int(T/delta_t)   # the number of steps in each stock return random walk, integer;\n",
    "    draws = np.random.randint(0, 2, size=(nwalks, nsteps))\n",
    "    steps = np.where(draws > 0, 1, -1)\n",
    "    returns = steps*sigma*np.sqrt(delta_t) + mu*delta_t\n",
    "    P1 = P0 * (1+returns).cumprod(axis=1)\n",
    "    return P1\n"
   ]
  },
  {
   "cell_type": "code",
   "execution_count": 10,
   "id": "295ca38a-b099-40ac-a27b-3e2195b1aaac",
   "metadata": {},
   "outputs": [
    {
     "name": "stdout",
     "output_type": "stream",
     "text": [
      "(10000, 2520)\n"
     ]
    }
   ],
   "source": [
    "P1 = stock_price_simulations(P0, T, delta_t, mu, sigma, nwalks)\n",
    "print(P1.shape)"
   ]
  },
  {
   "cell_type": "markdown",
   "id": "1c7a6c1c-7f7a-4720-9398-92d3e949f234",
   "metadata": {},
   "source": [
    "### Q1.2\n",
    "\n",
    "You learnt the following Black-Scholes-Merton formula of the European call option before: <br>\n",
    "<br>\n",
    "\\begin{equation}\n",
    "c(P_t, K, \\sigma, r, T-t) = P_t \\cdot N(d_1) - e^{-r (T-t)} K N(d_2)\n",
    "\\label{eq:euro_call_BS} \\tag{1}\n",
    "\\end{equation} \n",
    "<br>\n",
    "where \n",
    "- $P_t$ is the stock price at time $t$,\n",
    "- $K$ is the strike price of the European call option,\n",
    "- $\\sigma$ is the volatility of the stock return,\n",
    "- $r$ is the risk-free rate,\n",
    "- $T-t$ is the time-to-maturity, and \n",
    "- $N(\\cdot)$ is the cumulative distribution function of the standard normal ditribution, \n",
    "\n",
    "\\begin{equation}\n",
    "d_1 = \\frac{\\ln(\\frac{P_t}{K}) + (r + \\frac{1}{2} \\sigma^2)(T-t)}{\\sigma \\sqrt{T-t}}, \\ \n",
    "d_2 = d_1 - \\sigma \\sqrt{T-t}.\n",
    "\\label{eq:euro_call_BS_d} \\tag{2}\n",
    "\\end{equation}"
   ]
  },
  {
   "cell_type": "markdown",
   "id": "af03d94b-c8a7-4c51-999e-503454867f31",
   "metadata": {},
   "source": [
    "In this question, you are required to write a Python function to compute the call option price based on equation (1):\n",
    "```python\n",
    "def euro_call_BS(P0, r, T, sigma, K):\n",
    "    \"\"\"\n",
    "    P0: current asset price;\n",
    "    r: (annualized) risk-free rate;\n",
    "    T: time to maturity;\n",
    "    sigma: volatility of asset returns;\n",
    "    K: strike price;\n",
    "    \n",
    "    Return the price of European call option implied by Black-Scholes Formula.\n",
    "    \"\"\"\n",
    "    pass\n",
    "```\n",
    "\n",
    "Suppose that the strike price of the European call option is 50, and the values of other parameters are given in Q1.1. What is the price of this European call option based on ```euro_call_BS```?\n",
    "```python\n",
    "K = 50\n",
    "price_bs = euro_call_BS(P0, r, T, sigma, K)\n",
    "print(\"Black-Scholes price of European call option is\", \"%.4f\" % price_bs)\n",
    "```"
   ]
  },
  {
   "cell_type": "code",
   "execution_count": 13,
   "id": "4ffe7235-affe-4793-a221-ccf5d77b1b08",
   "metadata": {},
   "outputs": [],
   "source": [
    "from scipy.stats import norm"
   ]
  },
  {
   "cell_type": "markdown",
   "id": "b68de99a-5e91-4936-b1ec-0086637a7cdf",
   "metadata": {},
   "source": [
    "You need to use the above ```norm``` function to compute the cdf of the standard normal distributions, e.g., ```norm.cdf(d1)``` and ```norm.cdf(d2)```. "
   ]
  },
  {
   "cell_type": "code",
   "execution_count": 15,
   "id": "7a3ea0fc-fdb2-4fd8-aaa6-789f170e2c91",
   "metadata": {},
   "outputs": [],
   "source": [
    "def euro_call_BS(P0, r, T, sigma, K):\n",
    "    \"\"\"\n",
    "    P0: current asset price;\n",
    "    r: (annualized) risk-free rate;\n",
    "    T: time to maturity;\n",
    "    sigma: volatility of asset returns;\n",
    "    K: strike price;\n",
    "    \n",
    "    Return the price of European call option implied by Black-Scholes Formula.\n",
    "    \"\"\"\n",
    "    \n",
    "    d1 = (np.log(P0/K) + (r + 0.5 * sigma**2) * T) / (sigma * np.sqrt(T))\n",
    "    d2 = d1 - sigma * np.sqrt(T)\n",
    "    \n",
    "    return(P0*norm.cdf(d1) - np.exp(-r*T)*K*norm.cdf(d2))"
   ]
  },
  {
   "cell_type": "code",
   "execution_count": 16,
   "id": "5737bdd5-7714-4400-ab22-2ec3ffecee91",
   "metadata": {},
   "outputs": [
    {
     "name": "stdout",
     "output_type": "stream",
     "text": [
      "Black-Scholes price of European call option is 6.8766\n"
     ]
    }
   ],
   "source": [
    "K = 50\n",
    "price_bs = euro_call_BS(P0, r, T, sigma, K)\n",
    "print(\"Black-Scholes price of European call option is\", \"%.4f\" % price_bs)"
   ]
  },
  {
   "cell_type": "markdown",
   "id": "d0ddbe38-28c5-450f-a1c4-745ffe3e1278",
   "metadata": {},
   "source": [
    "### Q1.3\n",
    "\n",
    "Remember that in the risk-neutral pricing, the fair price of European call option with strike price $K$ is equal to \n",
    "\n",
    "\\begin{equation*}\n",
    "C(t, S_t) = \\exp \\{ - r (T-t) \\} \\cdot \\mathbb{E}^Q_t [ \\max\\{ P_T - K, 0 \\} ], \n",
    "\\label{eq:risk_neutral_price} \\tag{3}\n",
    "\\end{equation*} where $P_T$ is equal to \n",
    "\\begin{equation*}\n",
    "P_T = P_t \\cdot R_{t \\to T}.\n",
    "\\label{eq:risk_neutral_stock} \\tag{4}\n",
    "\\end{equation*}\n",
    "\n",
    "To approximate $\\mathbb{E}^Q_t [ \\max\\{ P_T - K, 0 \\} ]$, we need to draw a huge amount of simulation paths according to equation (\\ref{eq:risk_neutral_stock}). We denote the simulated outcomes of stock price as $\\{P_T (\\omega_j) \\}_{j=1}^{M}$, then\n",
    "\\begin{equation*}\n",
    "\\mathbb{E}^Q_t [ \\max\\{ P_T - K, 0 \\} ] \\approx \\frac{1}{M} \\sum_{j=1}^M (P_T (\\omega_j) - K)^{+}.\n",
    "\\label{eq:risk_neutral_appro} \\tag{5}\n",
    "\\end{equation*}\n"
   ]
  },
  {
   "cell_type": "markdown",
   "id": "da99837c-58bf-4bdd-abf9-53dc8f19a349",
   "metadata": {},
   "source": [
    "Now the question is how to simulate $R_{t \\to T}$. We rely on the generalized random walk process in Q1.1 (see the function ```stock_price_simulations```). Given the background information, you are required to conduct two analysese:\n",
    "- Create a ```euro_call_MC``` function that satisfies the given function specifications:\n",
    "```python\n",
    "def euro_call_MC(P0, K, T, delta_t, mu, sigma, nwalks):\n",
    "    \"\"\"\n",
    "    P0: the current stock price;\n",
    "    K: the strike price;\n",
    "    T: time-to-maturity;\n",
    "    delta_t: the time step, double numeric;\n",
    "    mu, sigma: mean and standard deviation of the stock return, double numeric;\n",
    "    nwalks: the number of stock price random walks, integer;\n",
    "    Return: the approximated price of the European call option based on Monte-Carlo simulations.\n",
    "    \"\"\"\n",
    "    pass\n",
    "### After you create the above function, please execute the following code:\n",
    "print(\"European call option price based on Monte-Carlo simulations is\", \"%.4f\" % euro_call_MC(P0, K, T, delta_t, r, sigma, nwalks))\n",
    "```\n",
    "\n",
    "- Run the function ```euro_call_MC(P0, K, T, delta_t, mu, sigma, nwalks)``` for 100 times and record the approximated option prices in a structured sequence (e.g., ```np.array```). Finally, show the distribution (5th and 95th quantiles, as well as the median) of approximated option prices across 100 Monte-Carlo simulations. Are the call option prices given by Monte-Carlo simulations consistent with the one given by Black-Scholes-Merton formula in Q1.2?"
   ]
  },
  {
   "cell_type": "code",
   "execution_count": 19,
   "id": "0450cb60-6d13-4e8c-a5ca-4e65eded846e",
   "metadata": {},
   "outputs": [],
   "source": [
    "def euro_call_MC(P0, K, T, delta_t, mu, sigma, nwalks):\n",
    "    \"\"\"\n",
    "    P0: the current stock price;\n",
    "    K: the strike price;\n",
    "    T: time-to-maturity;\n",
    "    delta_t: the time step, double numeric;\n",
    "    mu, sigma: mean and standard deviation of the stock return, double numeric;\n",
    "    nwalks: the number of stock price random walks, integer;\n",
    "    Return: the approximated price of the European call option based on Monte-Carlo simulations.\n",
    "    \"\"\"\n",
    "    nsteps = int(1 / delta_t)\n",
    "    P1 = stock_price_simulations(P0, T, delta_t, mu, sigma, nwalks)\n",
    "    return np.where(P1[:,-1] > K, P1[:,-1]-K, 0).mean() * np.exp(-r*T)\n",
    "    "
   ]
  },
  {
   "cell_type": "code",
   "execution_count": 20,
   "id": "8a61e967-d43a-4fb0-b655-c293ba84a1c7",
   "metadata": {},
   "outputs": [
    {
     "name": "stdout",
     "output_type": "stream",
     "text": [
      "European call option price based on Monte-Carlo simulations is 6.9084\n"
     ]
    }
   ],
   "source": [
    "print(\"European call option price based on Monte-Carlo simulations is\", \"%.4f\" % euro_call_MC(P0, K, T, delta_t, r, sigma, nwalks))"
   ]
  },
  {
   "cell_type": "code",
   "execution_count": 21,
   "id": "5ef2265f-066b-4bc9-a6ad-a7ee2d9ddf38",
   "metadata": {},
   "outputs": [
    {
     "name": "stdout",
     "output_type": "stream",
     "text": [
      "i = 0\n",
      "i = 10\n",
      "i = 20\n",
      "i = 30\n",
      "i = 40\n",
      "i = 50\n",
      "i = 60\n",
      "i = 70\n",
      "i = 80\n",
      "i = 90\n"
     ]
    }
   ],
   "source": [
    "nsim = 100\n",
    "call_price_seq = np.zeros(nsim)\n",
    "\n",
    "for i in range(nsim):\n",
    "    if i%10 == 0:\n",
    "        print(\"i =\", i)\n",
    "    call_price_seq[i] = euro_call_MC(P0, K, T, delta_t, r, sigma, nwalks)"
   ]
  },
  {
   "cell_type": "code",
   "execution_count": 22,
   "id": "1c31c9ce-70c5-4241-8257-263b430dd44c",
   "metadata": {},
   "outputs": [
    {
     "data": {
      "text/plain": [
       "array([6.70389204, 6.89975045, 7.04806767])"
      ]
     },
     "execution_count": 22,
     "metadata": {},
     "output_type": "execute_result"
    }
   ],
   "source": [
    "np.quantile(call_price_seq, q=[0.05, 0.5, 0.95])"
   ]
  },
  {
   "cell_type": "code",
   "execution_count": 38,
   "id": "c13d74d7-e49a-4759-8772-e1bbad8c658f",
   "metadata": {},
   "outputs": [
    {
     "data": {
      "text/plain": [
       "(array([ 1.,  0.,  0.,  2.,  8., 16., 22., 27., 18.,  6.]),\n",
       " array([6.374264  , 6.44881913, 6.52337426, 6.59792939, 6.67248452,\n",
       "        6.74703965, 6.82159478, 6.89614991, 6.97070503, 7.04526016,\n",
       "        7.11981529]),\n",
       " <BarContainer object of 10 artists>)"
      ]
     },
     "execution_count": 38,
     "metadata": {},
     "output_type": "execute_result"
    },
    {
     "data": {
      "image/png": "[encoded data removed]",
      "text/plain": [
       "<Figure size 640x480 with 1 Axes>"
      ]
     },
     "metadata": {},
     "output_type": "display_data"
    }
   ],
   "source": [
    "import matplotlib.pyplot as plt\n",
    "fig, axes = plt.subplots(1, 1, sharex=False, sharey=False)\n",
    "axes.hist(call_price_seq, bins=10, color='b', alpha=0.75)"
   ]
  },
  {
   "cell_type": "markdown",
   "id": "c1d536b1-d1dd-41c9-8630-0b3e7412ac23",
   "metadata": {},
   "source": [
    "---"
   ]
  },
  {
   "cell_type": "markdown",
   "id": "85f93592-aebe-488c-99e5-989f0334458d",
   "metadata": {},
   "source": [
    "# END"
   ]
  }
 ],
 "metadata": {
  "kernelspec": {
   "display_name": "Python 3 (ipykernel)",
   "language": "python",
   "name": "python3"
  },
  "language_info": {
   "codemirror_mode": {
    "name": "ipython",
    "version": 3
   },
   "file_extension": ".py",
   "mimetype": "text/x-python",
   "name": "python",
   "nbconvert_exporter": "python",
   "pygments_lexer": "ipython3",
   "version": "3.12.2"
  }
 },
 "nbformat": 4,
 "nbformat_minor": 5
}
